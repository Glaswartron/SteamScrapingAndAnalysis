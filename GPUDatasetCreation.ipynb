{
 "cells": [
  {
   "cell_type": "code",
   "execution_count": 60,
   "id": "cac28326-e570-4e64-8e33-f96e249b9f1e",
   "metadata": {},
   "outputs": [],
   "source": [
    "import pandas as pd"
   ]
  },
  {
   "cell_type": "markdown",
   "id": "b5982d66-1095-4ed4-8539-490b6b332889",
   "metadata": {},
   "source": [
    "### Lists with graphics cards and performance values for every card"
   ]
  },
  {
   "cell_type": "code",
   "execution_count": 25,
   "id": "4fddebef-be67-4661-92b6-e7c4b4bef5a4",
   "metadata": {},
   "outputs": [],
   "source": [
    "graphicsCardsList = [\"GeForce RTX 3090 Ti\",\"GeForce RTX 3090\",\"GeForce RTX 3080 Ti\",\"GeForce RTX 3080\",\n",
    "                     \"GeForce Quadro RTX A6000\",\"GeForce Quadro RTX A5000\",\"GeForce RTX 3070 Ti\",\"GeForce Titan V\",\n",
    "                     \"GeForce RTX 3070\",\"GeForce RTX 3080 [Laptop]\",\"GeForce RTX 2080 Ti\",\"GeForce RTX Titan\",\n",
    "                     \"GeForce RTX 3060 Ti\",\"GeForce RTX 3070 [Laptop]\",\"GeForce RTX 3060\",\"GeForce Titan Pascal\",\n",
    "                     \"GeForce RTX 2080 SUPER\",\"GeForce RTX 3060 [Laptop]\",\"GeForce GTX 1080 Ti\",\"GeForce RTX 2080\",\n",
    "                     \"GeForce Quadro RTX A4000\",\"GeForce RTX 2070 SUPER\",\"GeForce RTX 2070\",\"GeForce RTX 2060 SUPER\",\n",
    "                     \"GeForce RTX 2060\",\"GeForce GTX 1080\",\"GeForce RTX 3050\",\"GeForce GTX 1070 Ti\",\n",
    "                     \"GeForce RTX 3050 Ti [Laptop]\",\"GeForce GTX 980 Ti\",\"GeForce GTX 1070\",\"GeForce GTX 1660 Ti\",\n",
    "                     \"GeForce GTX 1660 SUPER\",\"GeForce RTX 3050 [Laptop]\",\"GeForce GTX 1660\",\"GeForce GTX 1060\",\n",
    "                     \"GeForce GTX 980\",\"GeForce GTX 1650 SUPER\",\"GeForce GTX 1650\",\"GeForce GTX 1050 Ti\",\"GeForce GTX 960\",\n",
    "                     \"GeForce GTX 1050\"]\n",
    "moreGraphicsCardsList = [\"RTX 4090\",\"RTX 4080 Ti\",\"RTX 4080\",\"RTX 4070\",\"RTX 3090\",\"RX 6900 XT\",\"RTX 3080 Ti\",\"RX 6800 XT\",\n",
    "                     \"RTX 3080\",\"RTX 4060 Ti\",\"RTX 4060\",\"RX 6800\",\"RTX 3070 Ti\",\"TITAN RTX\",\"RTX 3070\",\"RTX 2080 Ti\",\n",
    "                     \"RX 6700 XT\",\"RTX 3060 Ti\",\"RTX 2080 SUPER\",\"TITAN V\",\"RTX 2080\",\"RX 6600 XT\",\"RTX 4050\",\"RTX 2070 SUPER\",\n",
    "                     \"GTX 1080 Ti\",\"TITAN Xp\",\"Radeon VII\",\"RTX 3060\",\"RX 5700 XT\",\"RTX 2070\",\"RX 5700\",\"RTX 2060 SUPER\",\n",
    "                     \"GTX 1080\",\"RX 5600 XT\",\"RTX 2060\",\"RX Vega 64\",\"GTX 1070 Ti\",\"RX Vega 56\",\"GTX TITAN X\",\"RTX 3050 Ti\",\n",
    "                     \"RTX 2080 Mobile\",\"GTX 1660 Ti\",\"R9 295X2\",\"RTX 3050\",\"GTX 1070\",\"GTX 1660 SUPER\",\"GTX 1080 Mobile\",\n",
    "                     \"GTX 1660\",\"RTX 2080 Max-Q\",\"RTX 2070 Mobile\",\"GTX 1660 Ti Mobile\",\"GTX 1080 Max-Q\",\"GTX 1070 Mobile\",\n",
    "                     \"GTX 980 Ti\",\"R9 FURY X\",\"RX 590\",\"RTX 2060 Mobile\",\"RTX 2070 Max-Q\",\"R9 Nano\",\"GTX 1070 Max-Q\",\"GTX 980\",\n",
    "                     \"RX 5500 XT 8GB\",\"RX Vega 56 Mobile\",\"GTX 1660 Ti Max-Q\",\"R9 FURY\",\"RX 5500 XT 4GB\",\"RX 580\",\"GTX 1650 SUPER\",\n",
    "                     \"GTX 1060 6GB\",\"GTX TITAN BLACK\",\"RX 480\",\"GTX 1060 3GB\",\"HD 7990\",\"R9 390X\",\"GTX 780 Ti\",\"RX 570\",\n",
    "                     \"GTX TITAN\",\"GTX 970\",\"R9 290X\",\"R9 390\",\"GTX 1650\",\"GTX 1060 Mobile\",\"R9 290\",\"RX 470\",\"GTX 980M\",\n",
    "                     \"GTX 980 Mobile\",\"GTX 980MX\",\"GTX 780\",\"GTX 1060 Max-Q\",\"RX 580 Mobile\",\"RX 580X Mobile\",\"Pro WX 7100 Mobile\",\n",
    "                     \"R9 380X\",\"RX 480 Mobile\",\"R9 280X\",\"RX 570 Mobile\",\"GTX 770\",\"GTX 970M 6GB\",\"GTX 970M\",\"GTX 1650 Max-Q\",\n",
    "                     \"GTX 1650 Mobile\",\"GTX 1050 Ti\",\"R9 285\",\"R9 380\",\"R9 M290X\",\"R9 280\",\"RX 470 Mobile\",\"GTX 960\",\"GTX 1050 Ti Mobile\",\n",
    "                     \"GTX 780M\",\"GTX 780M\",\"GTX 760\",\"GTX 1050\",\"R9 270\",\"GTX 950\",\"RX 560\"]"
   ]
  },
  {
   "cell_type": "code",
   "execution_count": 26,
   "id": "bbe3b135-fd6e-4b81-b76c-d9135f97c6ce",
   "metadata": {},
   "outputs": [],
   "source": [
    "performances = [953,912,874,792,747,696,597,567,557,529,518,517,498,482,382,374,365,355,350,347,333,\n",
    "                332,317,302,255,252,251,247,229,215,210,206,206,205,181,152,152,140,119,86,80,74]\n",
    "more_performances = [430,401,373,344,287,285,283,276,275,265,235,230,225,223,220,213,200,186,184,180,\n",
    "                     170,165,159,156,156,154,150,150,148,145,137,136,130,127,126,124,123,120,120,120,\n",
    "                     119,118,118,115,114,114,110,110,102,101,100,97,97,93,92,91,88,87,87,86,85,85,84,\n",
    "                     83,82,80,79,79,78,77,75,75,74,74,73,73,72,71,70,70,70,66,65,64,59,59,59,58,58,55,\n",
    "                     55,55,52,52,52,51,50,49,49,48,48,48,46,46,45,45,45,45,41,41,41,40,39,38,36,33]"
   ]
  },
  {
   "cell_type": "markdown",
   "id": "4e2a72a9",
   "metadata": {},
   "source": [
    "### Scrape a website for more cards\n",
    "URL: \"https://www.videocardbenchmark.net/high_end_gpus.html\""
   ]
  },
  {
   "cell_type": "code",
   "execution_count": 51,
   "id": "f841c0f6",
   "metadata": {},
   "outputs": [],
   "source": [
    "from bs4 import BeautifulSoup as bs\n",
    "import requests\n",
    "url = \"https://www.videocardbenchmark.net/high_end_gpus.html\"\n",
    "request = requests.get(url)\n",
    "page = bs(request.content, \"lxml\")\n",
    "card_list = page.select_one(\".chartlist\")\n",
    "card_spans = card_list.find_all(\"span\", {\"class\" : \"prdname\"})\n",
    "evenMoreGraphicsCardsList = [span.string for span in card_spans]\n",
    "card_performance_spans = [span.find_next_sibling(\"span\", {\"class\" : \"count\"}) for span in card_spans]\n",
    "even_more_performances_list = [int(span.text.replace(\",\", \"\")) for span in card_performance_spans]"
   ]
  },
  {
   "cell_type": "markdown",
   "id": "81cd182e-0906-42ea-88a8-c22cb7d60de5",
   "metadata": {},
   "source": [
    "### Normalize performance values to a common scale\n",
    "using $newMin + \\frac{newMax - newMin}{oldMax - oldMin} \\cdot (value - oldMin)$"
   ]
  },
  {
   "cell_type": "code",
   "execution_count": 52,
   "id": "8e2dcd29-c571-42c6-a864-fcfafdd9d047",
   "metadata": {},
   "outputs": [],
   "source": [
    "pmax, pmin = max(performances), min(performances)\n",
    "normalizedPerformances = [1 + ((10 - 1) / (pmax - pmin)) * (p - pmin) for p in performances]\n",
    "mpmax, mpmin = max(more_performances), min(more_performances)\n",
    "moreNormalizedPerformances = [1 + ((10 - 1) / (mpmax - mpmin)) * (p - mpmin) for p in more_performances]\n",
    "empmax, empmin = max(even_more_performances_list), min(even_more_performances_list)\n",
    "evenMoreNormalizedPerformances = [1 + ((10 - 1) / (empmax - empmin)) * (p - empmin) for p in even_more_performances_list]"
   ]
  },
  {
   "cell_type": "markdown",
   "id": "5dcfd7bc-daad-48f5-9430-44b7bc2f39b6",
   "metadata": {},
   "source": [
    "### Filter out just Nvidia cards"
   ]
  },
  {
   "cell_type": "code",
   "execution_count": 81,
   "id": "eae35a4e-df66-4e2c-88ef-daa5108da83d",
   "metadata": {},
   "outputs": [],
   "source": [
    "moreNvidiaCards = list(filter(lambda s: s.startswith(\"GTX\") or s.startswith(\"RTX\"), moreGraphicsCardsList))\n",
    "moreNvidiaPerformances = [moreNormalizedPerformances[moreGraphicsCardsList.index(c)] for c in moreNvidiaCards]\n",
    "\n",
    "evenMoreNvidiaCards = list(filter(lambda s: s.startswith(\"GeForce\"), evenMoreGraphicsCardsList))\n",
    "evenMoreNvidiaPerformances = [evenMoreNormalizedPerformances[evenMoreGraphicsCardsList.index(c)] for c in evenMoreNvidiaCards]\n",
    "\n",
    "allNvidiaGraphicsCards = graphicsCardsList + [\"GeForce \" + s for s in moreNvidiaCards] + evenMoreNvidiaCards\n",
    "allNvidiaPerformances = normalizedPerformances + moreNvidiaPerformances + evenMoreNvidiaPerformances"
   ]
  },
  {
   "cell_type": "markdown",
   "id": "8c0f81f5-2b03-44f1-bded-522f2477ddd0",
   "metadata": {},
   "source": [
    "### Build a DataFrame and discard duplicate GPUs"
   ]
  },
  {
   "cell_type": "code",
   "execution_count": 82,
   "id": "aebc6195-3b6d-4ad3-82ce-7470f1e16b70",
   "metadata": {},
   "outputs": [
    {
     "data": {
      "text/html": [
       "<div>\n",
       "<style scoped>\n",
       "    .dataframe tbody tr th:only-of-type {\n",
       "        vertical-align: middle;\n",
       "    }\n",
       "\n",
       "    .dataframe tbody tr th {\n",
       "        vertical-align: top;\n",
       "    }\n",
       "\n",
       "    .dataframe thead th {\n",
       "        text-align: right;\n",
       "    }\n",
       "</style>\n",
       "<table border=\"1\" class=\"dataframe\">\n",
       "  <thead>\n",
       "    <tr style=\"text-align: right;\">\n",
       "      <th></th>\n",
       "      <th>Performance</th>\n",
       "    </tr>\n",
       "    <tr>\n",
       "      <th>Card</th>\n",
       "      <th></th>\n",
       "    </tr>\n",
       "  </thead>\n",
       "  <tbody>\n",
       "    <tr>\n",
       "      <th>GeForce RTX 3090 Ti</th>\n",
       "      <td>10.000000</td>\n",
       "    </tr>\n",
       "    <tr>\n",
       "      <th>GeForce RTX 4090</th>\n",
       "      <td>10.000000</td>\n",
       "    </tr>\n",
       "    <tr>\n",
       "      <th>GeForce RTX 3090</th>\n",
       "      <td>9.580205</td>\n",
       "    </tr>\n",
       "    <tr>\n",
       "      <th>GeForce RTX 4080 Ti</th>\n",
       "      <td>9.342569</td>\n",
       "    </tr>\n",
       "    <tr>\n",
       "      <th>GeForce RTX 3080 Ti</th>\n",
       "      <td>9.191126</td>\n",
       "    </tr>\n",
       "    <tr>\n",
       "      <th>...</th>\n",
       "      <td>...</td>\n",
       "    </tr>\n",
       "    <tr>\n",
       "      <th>GeForce GTX 675MX</th>\n",
       "      <td>1.050128</td>\n",
       "    </tr>\n",
       "    <tr>\n",
       "      <th>GeForce MX150</th>\n",
       "      <td>1.038448</td>\n",
       "    </tr>\n",
       "    <tr>\n",
       "      <th>GeForce GTX 460</th>\n",
       "      <td>1.030904</td>\n",
       "    </tr>\n",
       "    <tr>\n",
       "      <th>GeForce GTX 745</th>\n",
       "      <td>1.007544</td>\n",
       "    </tr>\n",
       "    <tr>\n",
       "      <th>GeForce GTX 1050</th>\n",
       "      <td>1.000000</td>\n",
       "    </tr>\n",
       "  </tbody>\n",
       "</table>\n",
       "<p>171 rows × 1 columns</p>\n",
       "</div>"
      ],
      "text/plain": [
       "                     Performance\n",
       "Card                            \n",
       "GeForce RTX 3090 Ti    10.000000\n",
       "GeForce RTX 4090       10.000000\n",
       "GeForce RTX 3090        9.580205\n",
       "GeForce RTX 4080 Ti     9.342569\n",
       "GeForce RTX 3080 Ti     9.191126\n",
       "...                          ...\n",
       "GeForce GTX 675MX       1.050128\n",
       "GeForce MX150           1.038448\n",
       "GeForce GTX 460         1.030904\n",
       "GeForce GTX 745         1.007544\n",
       "GeForce GTX 1050        1.000000\n",
       "\n",
       "[171 rows x 1 columns]"
      ]
     },
     "execution_count": 82,
     "metadata": {},
     "output_type": "execute_result"
    }
   ],
   "source": [
    "graphicsCards = pd.DataFrame({\"Card\": allNvidiaGraphicsCards, \"Performance\": allNvidiaPerformances})\n",
    "graphicsCards = graphicsCards.set_index('Card')\n",
    "graphicsCards = graphicsCards[~graphicsCards.index.duplicated(keep='first')]\n",
    "graphicsCards.sort_values(by=\"Performance\", ascending=False, inplace=True)\n",
    "graphicsCards"
   ]
  },
  {
   "cell_type": "markdown",
   "id": "fe68f725-98a4-496f-bf8a-eaae6b37df3e",
   "metadata": {},
   "source": [
    "### Save to csv"
   ]
  },
  {
   "cell_type": "code",
   "execution_count": 77,
   "id": "1bac2e41-180c-4a62-8d51-608d53d987e1",
   "metadata": {},
   "outputs": [],
   "source": [
    "with open(\"./NvidiaGPUs.csv\", \"w\") as csv_file:\n",
    "    csv_file.write(graphicsCards.to_csv())\n",
    "    csv_file.flush()"
   ]
  },
  {
   "cell_type": "code",
   "execution_count": null,
   "id": "a8791735-67d5-4c96-9b4b-a64d58d84a21",
   "metadata": {},
   "outputs": [],
   "source": []
  }
 ],
 "metadata": {
  "kernelspec": {
   "display_name": "Python 3 (ipykernel)",
   "language": "python",
   "name": "python3"
  },
  "language_info": {
   "codemirror_mode": {
    "name": "ipython",
    "version": 3
   },
   "file_extension": ".py",
   "mimetype": "text/x-python",
   "name": "python",
   "nbconvert_exporter": "python",
   "pygments_lexer": "ipython3",
   "version": "3.9.13"
  }
 },
 "nbformat": 4,
 "nbformat_minor": 5
}
